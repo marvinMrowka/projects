{
 "cells": [
  {
   "cell_type": "code",
   "execution_count": 2,
   "id": "7ced1f6b-736d-4aaf-a3e4-79b6e8bb2d9c",
   "metadata": {},
   "outputs": [],
   "source": [
    "import json\n",
    "import time\n",
    "\n",
    "import numpy as np\n",
    "import pandas as pd\n",
    "\n",
    "from bs4 import BeautifulSoup\n",
    "\n",
    "from pydantic import BaseModel\n",
    "from typing import List, Optional\n",
    "\n",
    "from selenium import webdriver\n",
    "\n",
    "from supabase import create_client, Client"
   ]
  },
  {
   "cell_type": "code",
   "execution_count": 3,
   "id": "5b0517b5-ed55-405e-8ddd-2568e771c735",
   "metadata": {},
   "outputs": [],
   "source": [
    "class MatchEvent(BaseModel):\n",
    "    id: int\n",
    "    event_id: int\n",
    "    minute: int\n",
    "    second: Optional[float] = None\n",
    "    team_id: int\n",
    "    player_id: int\n",
    "    x: float\n",
    "    y: float\n",
    "    end_x: Optional[float] = None\n",
    "    end_y: Optional[float] = None\n",
    "    qualifiers: List[dict]\n",
    "    is_touch: bool\n",
    "    blocked_x: Optional[float] = None\n",
    "    blocked_y: Optional[float] = None\n",
    "    goal_mouth_z: Optional[float] = None\n",
    "    goal_mouth_y: Optional[float] = None\n",
    "    is_shot: bool\n",
    "    card_type: bool\n",
    "    is_goal: bool\n",
    "    type_display_name: str\n",
    "    outcome_type_display_name: str\n",
    "    period_display_name: str"
   ]
  },
  {
   "cell_type": "code",
   "execution_count": 4,
   "id": "5c35ca4a-8801-4a01-813e-0283f063518d",
   "metadata": {},
   "outputs": [],
   "source": [
    "def insert_match_events(df, supabase):\n",
    "    events = [\n",
    "        MatchEvent(**x).dict()\n",
    "        for x in df.to_dict(orient='records')\n",
    "    ]\n",
    "    \n",
    "    execution = supabase.table('match_event').upsert(events).execute()"
   ]
  },
  {
   "cell_type": "code",
   "execution_count": 5,
   "id": "19384d3c-034f-498e-8b64-5b6cc2af8e6d",
   "metadata": {},
   "outputs": [],
   "source": [
    "class Player(BaseModel):\n",
    "    player_id: int\n",
    "    shirt_no: int\n",
    "    name: str\n",
    "    age: int\n",
    "    position: str\n",
    "    team_id: int"
   ]
  },
  {
   "cell_type": "code",
   "execution_count": 6,
   "id": "aa21631b-5d3e-4dd3-95cc-851525545c71",
   "metadata": {},
   "outputs": [],
   "source": [
    "def insert_players(team_info, supabase):\n",
    "    players = []\n",
    "    for team in team_info:\n",
    "        for player in team['players']:\n",
    "            players.append({\n",
    "                'player_id': player['playerId'],\n",
    "                'team_id': team['team_id'],\n",
    "                'shirt_no': player['shirtNo'],\n",
    "                'name': player['name'],\n",
    "                'position': player['position'],\n",
    "                'age': player['age']\n",
    "            })\n",
    "            \n",
    "    execution = supabase.table('players').upsert(players).execute()"
   ]
  },
  {
   "cell_type": "code",
   "execution_count": 8,
   "id": "03922b6d-4717-4503-928f-cbff964b30f8",
   "metadata": {},
   "outputs": [],
   "source": [
    "from Database import Database\n",
    "supabase_password = Database.get_password()\n",
    "project_url = Database.get_project_url()\n",
    "api_key = Database.get_api_key()\n",
    "\n",
    "supabase = create_client(project_url, api_key)"
   ]
  },
  {
   "cell_type": "code",
   "execution_count": 9,
   "id": "c9497af0-23a9-4565-ae33-135a1dc37942",
   "metadata": {},
   "outputs": [],
   "source": [
    "driver = webdriver.Chrome()"
   ]
  },
  {
   "cell_type": "code",
   "execution_count": 10,
   "id": "922e92b1-9f29-4f02-a552-6353afbcce63",
   "metadata": {},
   "outputs": [],
   "source": [
    "def scrape_match_events(whoscored_url, driver):\n",
    "    \n",
    "    driver.get(whoscored_url)\n",
    "    \n",
    "    soup = BeautifulSoup(driver.page_source, 'html.parser')\n",
    "    \n",
    "    element = soup.select_one('script:-soup-contains(\"matchCentreData\")')\n",
    "    if element is None:\n",
    "        return None\n",
    "    \n",
    "    matchdict = json.loads(element.text.split(\"matchCentreData: \")[1].split(',\\n')[0])\n",
    "    \n",
    "    match_events = matchdict['events']\n",
    "    \n",
    "    df = pd.DataFrame(match_events)\n",
    "    \n",
    "    df.dropna(subset='playerId', inplace=True)\n",
    "    \n",
    "    df = df.where(pd.notnull(df), None)\n",
    "    \n",
    "    df = df.rename(\n",
    "    {\n",
    "        'eventId': 'event_id',\n",
    "        'expandedMinute': 'expanded_minute',\n",
    "        'outcomeType': 'outcome_type',\n",
    "        'isTouch': 'is_touch',\n",
    "        'playerId': 'player_id',\n",
    "        'teamId': 'team_id',\n",
    "        'endX': 'end_x',\n",
    "        'endY': 'end_y',\n",
    "        'blockedX': 'blocked_x',\n",
    "        'blockedY': 'blocked_y',\n",
    "        'goalMouthZ': 'goal_mouth_z',\n",
    "        'goalMouthY': 'goal_mouth_y',\n",
    "        'isShot': 'is_shot',\n",
    "        'cardType': 'card_type',\n",
    "        'isGoal': 'is_goal'\n",
    "    },\n",
    "        axis=1\n",
    "    )\n",
    "    \n",
    "    df['period_display_name'] = df['period'].apply(lambda x: x['displayName'])\n",
    "    df['type_display_name'] = df['type'].apply(lambda x: x['displayName'])\n",
    "    df['outcome_type_display_name'] = df['outcome_type'].apply(lambda x: x['displayName'])\n",
    "    \n",
    "    df.drop(columns=[\"period\", \"type\", \"outcome_type\"], inplace=True)\n",
    "    \n",
    "    if 'is_goal' not in df.columns:\n",
    "        df['is_goal'] = False\n",
    "        \n",
    "    if 'is_card' not in df.columns:\n",
    "        df['is_card'] = False\n",
    "        df['card_type'] = False\n",
    "        \n",
    "    df = df[~(df['type_display_name'] == \"OffsideGiven\")]\n",
    "    \n",
    "    df = df[[\n",
    "        'id', 'event_id', 'minute', 'second', 'team_id', 'player_id', 'x', 'y', 'end_x', 'end_y',\n",
    "        'qualifiers', 'is_touch', 'blocked_x', 'blocked_y', 'goal_mouth_z', 'goal_mouth_y', 'is_shot',\n",
    "        'card_type', 'is_goal', 'type_display_name', 'outcome_type_display_name',\n",
    "        'period_display_name'\n",
    "    ]]\n",
    "    \n",
    "    df[['id', 'event_id', 'minute', 'team_id', 'player_id']] = df[['id', 'event_id', 'minute', 'team_id', 'player_id']].astype(np.int64)\n",
    "    df[['second', 'x', 'y', 'end_x', 'end_y']] = df[['second', 'x', 'y', 'end_x', 'end_y']].astype(float)\n",
    "    df[['is_shot', 'is_goal', 'card_type']] = df[['is_shot', 'is_goal', 'card_type']].astype(bool)\n",
    "    \n",
    "    df['is_goal'] = df['is_goal'].fillna(False)\n",
    "    df['is_shot'] = df['is_shot'].fillna(False)\n",
    "    \n",
    "    for column in df.columns:\n",
    "        if df[column].dtype == np.float64 or df[column].dtype == np.float32:\n",
    "            df[column] = np.where(\n",
    "                np.isnan(df[column]),\n",
    "                None,\n",
    "                df[column]\n",
    "            )\n",
    "            \n",
    "            \n",
    "    insert_match_events(df, supabase)\n",
    "    \n",
    "    \n",
    "    team_info = []\n",
    "    team_info.append({\n",
    "        'team_id': matchdict['home']['teamId'],\n",
    "        'name': matchdict['home']['name'],\n",
    "        'country_name': matchdict['home']['countryName'],\n",
    "        'manager_name': matchdict['home']['managerName'],\n",
    "        'players': matchdict['home']['players'],\n",
    "    })\n",
    "\n",
    "    team_info.append({\n",
    "        'team_id': matchdict['away']['teamId'],\n",
    "        'name': matchdict['away']['name'],\n",
    "        'country_name': matchdict['away']['countryName'],\n",
    "        'manager_name': matchdict['away']['managerName'],\n",
    "        'players': matchdict['away']['players'],\n",
    "    })\n",
    "    \n",
    "    insert_players(team_info, supabase)\n",
    "    \n",
    "    return print('Success')"
   ]
  },
  {
   "cell_type": "code",
   "execution_count": 19,
   "id": "d92dd244-d38c-4da4-a364-b1eee47c4c53",
   "metadata": {},
   "outputs": [],
   "source": [
    "driver.get(\"https://www.whoscored.com/Teams/607/Fixtures/France-Lille\")"
   ]
  },
  {
   "cell_type": "code",
   "execution_count": 20,
   "id": "9d1cdc37-c742-45a7-a9f5-047dac7e774a",
   "metadata": {},
   "outputs": [],
   "source": [
    "soup = BeautifulSoup(driver.page_source, 'html.parser')"
   ]
  },
  {
   "cell_type": "code",
   "execution_count": 21,
   "id": "d0be4e18-70dd-424d-a209-a47fb2369f16",
   "metadata": {},
   "outputs": [],
   "source": [
    "all_urls = soup.select('a[href*=\"\\/Live\\/\"]')"
   ]
  },
  {
   "cell_type": "code",
   "execution_count": 22,
   "id": "fcb070ee-2af5-4850-83d5-5813a31a43ac",
   "metadata": {},
   "outputs": [],
   "source": [
    "all_urls = list(set([\n",
    "    'https://whoscored.com' + x.attrs['href']\n",
    "    for x in all_urls\n",
    "]))"
   ]
  },
  {
   "cell_type": "code",
   "execution_count": 23,
   "id": "9852693c-c21c-49dc-8326-f00c48c1833d",
   "metadata": {},
   "outputs": [
    {
     "data": {
      "text/plain": [
       "['https://whoscored.com/Matches/1775883/Live/Europe-Conference-League-2023-2024-Lille-Olimpija-Ljubljana',\n",
       " 'https://whoscored.com/Matches/1741100/Live/France-Ligue-1-2023-2024-Lille-Lorient',\n",
       " 'https://whoscored.com/Matches/1741114/Live/France-Ligue-1-2023-2024-Montpellier-Lille',\n",
       " 'https://whoscored.com/Matches/1741716/Live/France-Ligue-1-2023-2024-Lille-Metz',\n",
       " 'https://whoscored.com/Matches/1787886/Live/France-Coupe-de-France-2023-2024-Lille-Golden-Lion-de-Saint-Joseph',\n",
       " 'https://whoscored.com/Matches/1741735/Live/France-Ligue-1-2023-2024-Lille-Paris-Saint-Germain',\n",
       " 'https://whoscored.com/Matches/1773567/Live/Europe-Conference-League-2023-2024-Rijeka-Lille',\n",
       " 'https://whoscored.com/Matches/1741708/Live/France-Ligue-1-2023-2024-Lyon-Lille',\n",
       " 'https://whoscored.com/Matches/1773544/Live/Europe-Conference-League-2023-2024-Lille-Rijeka',\n",
       " 'https://whoscored.com/Matches/1775882/Live/Europe-Conference-League-2023-2024-Lille-Slovan-Bratislava',\n",
       " 'https://whoscored.com/Matches/1795060/Live/France-Coupe-de-France-2023-2024-Racing-Club-de-France-Lille',\n",
       " 'https://whoscored.com/Matches/1741255/Live/France-Ligue-1-2023-2024-Lille-Reims',\n",
       " 'https://whoscored.com/Matches/1741188/Live/France-Ligue-1-2023-2024-Lens-Lille',\n",
       " 'https://whoscored.com/Matches/1741741/Live/France-Ligue-1-2023-2024-Strasbourg-Lille',\n",
       " 'https://whoscored.com/Matches/1741230/Live/France-Ligue-1-2023-2024-Lorient-Lille',\n",
       " 'https://whoscored.com/Matches/1741203/Live/France-Ligue-1-2023-2024-Lille-Monaco',\n",
       " 'https://whoscored.com/Matches/1741213/Live/France-Ligue-1-2023-2024-Marseille-Lille',\n",
       " 'https://whoscored.com/Matches/1741237/Live/France-Ligue-1-2023-2024-Lille-Montpellier',\n",
       " 'https://whoscored.com/Matches/1775875/Live/Europe-Conference-League-2023-2024-Lille-Klaksvik',\n",
       " 'https://whoscored.com/Matches/1775880/Live/Europe-Conference-League-2023-2024-Klaksvik-Lille',\n",
       " 'https://whoscored.com/Matches/1741246/Live/France-Ligue-1-2023-2024-Rennes-Lille',\n",
       " 'https://whoscored.com/Matches/1741696/Live/France-Ligue-1-2023-2024-Lille-Toulouse',\n",
       " 'https://whoscored.com/Matches/1741220/Live/France-Ligue-1-2023-2024-Lille-Nantes',\n",
       " 'https://whoscored.com/Matches/1741075/Live/France-Ligue-1-2023-2024-Nice-Lille',\n",
       " 'https://whoscored.com/Matches/1741728/Live/France-Ligue-1-2023-2024-Clermont-Foot-Lille',\n",
       " 'https://whoscored.com/Matches/1741182/Live/France-Ligue-1-2023-2024-Le-Havre-Lille',\n",
       " 'https://whoscored.com/Matches/1775814/Live/Europe-Conference-League-2023-2024-Olimpija-Ljubljana-Lille',\n",
       " 'https://whoscored.com/Matches/1741196/Live/France-Ligue-1-2023-2024-Lille-Brest',\n",
       " 'https://whoscored.com/Matches/1775876/Live/Europe-Conference-League-2023-2024-Slovan-Bratislava-Lille']"
      ]
     },
     "execution_count": 23,
     "metadata": {},
     "output_type": "execute_result"
    }
   ],
   "source": [
    "all_urls "
   ]
  },
  {
   "cell_type": "code",
   "execution_count": 24,
   "id": "def850d2-649b-4cc5-8931-263f7c19e331",
   "metadata": {},
   "outputs": [
    {
     "name": "stdout",
     "output_type": "stream",
     "text": [
      "https://whoscored.com/Matches/1775883/Live/Europe-Conference-League-2023-2024-Lille-Olimpija-Ljubljana\n",
      "https://whoscored.com/Matches/1741100/Live/France-Ligue-1-2023-2024-Lille-Lorient\n"
     ]
    },
    {
     "name": "stderr",
     "output_type": "stream",
     "text": [
      "C:\\Users\\marvi\\AppData\\Local\\Temp\\ipykernel_27960\\2685486566.py:3: PydanticDeprecatedSince20: The `dict` method is deprecated; use `model_dump` instead. Deprecated in Pydantic V2.0 to be removed in V3.0. See Pydantic V2 Migration Guide at https://errors.pydantic.dev/2.4/migration/\n",
      "  MatchEvent(**x).dict()\n",
      "2024-01-31 15:08:42,303:INFO - HTTP Request: POST https://ypljxhueshyvowbzpglx.supabase.co/rest/v1/match_event \"HTTP/1.1 201 Created\"\n",
      "2024-01-31 15:08:42,554:INFO - HTTP Request: POST https://ypljxhueshyvowbzpglx.supabase.co/rest/v1/players \"HTTP/1.1 201 Created\"\n"
     ]
    },
    {
     "name": "stdout",
     "output_type": "stream",
     "text": [
      "Success\n",
      "https://whoscored.com/Matches/1741114/Live/France-Ligue-1-2023-2024-Montpellier-Lille\n"
     ]
    },
    {
     "name": "stderr",
     "output_type": "stream",
     "text": [
      "C:\\Users\\marvi\\AppData\\Local\\Temp\\ipykernel_27960\\2685486566.py:3: PydanticDeprecatedSince20: The `dict` method is deprecated; use `model_dump` instead. Deprecated in Pydantic V2.0 to be removed in V3.0. See Pydantic V2 Migration Guide at https://errors.pydantic.dev/2.4/migration/\n",
      "  MatchEvent(**x).dict()\n",
      "2024-01-31 15:08:46,887:INFO - HTTP Request: POST https://ypljxhueshyvowbzpglx.supabase.co/rest/v1/match_event \"HTTP/1.1 201 Created\"\n",
      "2024-01-31 15:08:47,170:INFO - HTTP Request: POST https://ypljxhueshyvowbzpglx.supabase.co/rest/v1/players \"HTTP/1.1 201 Created\"\n"
     ]
    },
    {
     "name": "stdout",
     "output_type": "stream",
     "text": [
      "Success\n",
      "https://whoscored.com/Matches/1741716/Live/France-Ligue-1-2023-2024-Lille-Metz\n"
     ]
    },
    {
     "name": "stderr",
     "output_type": "stream",
     "text": [
      "C:\\Users\\marvi\\AppData\\Local\\Temp\\ipykernel_27960\\2685486566.py:3: PydanticDeprecatedSince20: The `dict` method is deprecated; use `model_dump` instead. Deprecated in Pydantic V2.0 to be removed in V3.0. See Pydantic V2 Migration Guide at https://errors.pydantic.dev/2.4/migration/\n",
      "  MatchEvent(**x).dict()\n",
      "2024-01-31 15:08:51,476:INFO - HTTP Request: POST https://ypljxhueshyvowbzpglx.supabase.co/rest/v1/match_event \"HTTP/1.1 201 Created\"\n",
      "2024-01-31 15:08:51,689:INFO - HTTP Request: POST https://ypljxhueshyvowbzpglx.supabase.co/rest/v1/players \"HTTP/1.1 201 Created\"\n"
     ]
    },
    {
     "name": "stdout",
     "output_type": "stream",
     "text": [
      "Success\n",
      "https://whoscored.com/Matches/1787886/Live/France-Coupe-de-France-2023-2024-Lille-Golden-Lion-de-Saint-Joseph\n",
      "https://whoscored.com/Matches/1741735/Live/France-Ligue-1-2023-2024-Lille-Paris-Saint-Germain\n"
     ]
    },
    {
     "name": "stderr",
     "output_type": "stream",
     "text": [
      "C:\\Users\\marvi\\AppData\\Local\\Temp\\ipykernel_27960\\2685486566.py:3: PydanticDeprecatedSince20: The `dict` method is deprecated; use `model_dump` instead. Deprecated in Pydantic V2.0 to be removed in V3.0. See Pydantic V2 Migration Guide at https://errors.pydantic.dev/2.4/migration/\n",
      "  MatchEvent(**x).dict()\n",
      "2024-01-31 15:08:58,862:INFO - HTTP Request: POST https://ypljxhueshyvowbzpglx.supabase.co/rest/v1/match_event \"HTTP/1.1 201 Created\"\n",
      "2024-01-31 15:08:59,092:INFO - HTTP Request: POST https://ypljxhueshyvowbzpglx.supabase.co/rest/v1/players \"HTTP/1.1 201 Created\"\n"
     ]
    },
    {
     "name": "stdout",
     "output_type": "stream",
     "text": [
      "Success\n",
      "https://whoscored.com/Matches/1773567/Live/Europe-Conference-League-2023-2024-Rijeka-Lille\n",
      "https://whoscored.com/Matches/1741708/Live/France-Ligue-1-2023-2024-Lyon-Lille\n"
     ]
    },
    {
     "name": "stderr",
     "output_type": "stream",
     "text": [
      "C:\\Users\\marvi\\AppData\\Local\\Temp\\ipykernel_27960\\2685486566.py:3: PydanticDeprecatedSince20: The `dict` method is deprecated; use `model_dump` instead. Deprecated in Pydantic V2.0 to be removed in V3.0. See Pydantic V2 Migration Guide at https://errors.pydantic.dev/2.4/migration/\n",
      "  MatchEvent(**x).dict()\n",
      "2024-01-31 15:09:06,524:INFO - HTTP Request: POST https://ypljxhueshyvowbzpglx.supabase.co/rest/v1/match_event \"HTTP/1.1 201 Created\"\n",
      "2024-01-31 15:09:06,768:INFO - HTTP Request: POST https://ypljxhueshyvowbzpglx.supabase.co/rest/v1/players \"HTTP/1.1 201 Created\"\n"
     ]
    },
    {
     "name": "stdout",
     "output_type": "stream",
     "text": [
      "Success\n",
      "https://whoscored.com/Matches/1773544/Live/Europe-Conference-League-2023-2024-Lille-Rijeka\n",
      "https://whoscored.com/Matches/1775882/Live/Europe-Conference-League-2023-2024-Lille-Slovan-Bratislava\n",
      "https://whoscored.com/Matches/1795060/Live/France-Coupe-de-France-2023-2024-Racing-Club-de-France-Lille\n",
      "https://whoscored.com/Matches/1741255/Live/France-Ligue-1-2023-2024-Lille-Reims\n"
     ]
    },
    {
     "name": "stderr",
     "output_type": "stream",
     "text": [
      "C:\\Users\\marvi\\AppData\\Local\\Temp\\ipykernel_27960\\2685486566.py:3: PydanticDeprecatedSince20: The `dict` method is deprecated; use `model_dump` instead. Deprecated in Pydantic V2.0 to be removed in V3.0. See Pydantic V2 Migration Guide at https://errors.pydantic.dev/2.4/migration/\n",
      "  MatchEvent(**x).dict()\n",
      "2024-01-31 15:09:19,623:INFO - HTTP Request: POST https://ypljxhueshyvowbzpglx.supabase.co/rest/v1/match_event \"HTTP/1.1 201 Created\"\n",
      "2024-01-31 15:09:19,860:INFO - HTTP Request: POST https://ypljxhueshyvowbzpglx.supabase.co/rest/v1/players \"HTTP/1.1 201 Created\"\n"
     ]
    },
    {
     "name": "stdout",
     "output_type": "stream",
     "text": [
      "Success\n",
      "https://whoscored.com/Matches/1741188/Live/France-Ligue-1-2023-2024-Lens-Lille\n"
     ]
    },
    {
     "name": "stderr",
     "output_type": "stream",
     "text": [
      "C:\\Users\\marvi\\AppData\\Local\\Temp\\ipykernel_27960\\2685486566.py:3: PydanticDeprecatedSince20: The `dict` method is deprecated; use `model_dump` instead. Deprecated in Pydantic V2.0 to be removed in V3.0. See Pydantic V2 Migration Guide at https://errors.pydantic.dev/2.4/migration/\n",
      "  MatchEvent(**x).dict()\n",
      "2024-01-31 15:09:24,208:INFO - HTTP Request: POST https://ypljxhueshyvowbzpglx.supabase.co/rest/v1/match_event \"HTTP/1.1 201 Created\"\n",
      "2024-01-31 15:09:24,484:INFO - HTTP Request: POST https://ypljxhueshyvowbzpglx.supabase.co/rest/v1/players \"HTTP/1.1 201 Created\"\n"
     ]
    },
    {
     "name": "stdout",
     "output_type": "stream",
     "text": [
      "Success\n",
      "https://whoscored.com/Matches/1741741/Live/France-Ligue-1-2023-2024-Strasbourg-Lille\n"
     ]
    },
    {
     "name": "stderr",
     "output_type": "stream",
     "text": [
      "C:\\Users\\marvi\\AppData\\Local\\Temp\\ipykernel_27960\\2685486566.py:3: PydanticDeprecatedSince20: The `dict` method is deprecated; use `model_dump` instead. Deprecated in Pydantic V2.0 to be removed in V3.0. See Pydantic V2 Migration Guide at https://errors.pydantic.dev/2.4/migration/\n",
      "  MatchEvent(**x).dict()\n",
      "2024-01-31 15:09:28,721:INFO - HTTP Request: POST https://ypljxhueshyvowbzpglx.supabase.co/rest/v1/match_event \"HTTP/1.1 201 Created\"\n",
      "2024-01-31 15:09:28,915:INFO - HTTP Request: POST https://ypljxhueshyvowbzpglx.supabase.co/rest/v1/players \"HTTP/1.1 201 Created\"\n"
     ]
    },
    {
     "name": "stdout",
     "output_type": "stream",
     "text": [
      "Success\n",
      "https://whoscored.com/Matches/1741230/Live/France-Ligue-1-2023-2024-Lorient-Lille\n"
     ]
    },
    {
     "name": "stderr",
     "output_type": "stream",
     "text": [
      "C:\\Users\\marvi\\AppData\\Local\\Temp\\ipykernel_27960\\2685486566.py:3: PydanticDeprecatedSince20: The `dict` method is deprecated; use `model_dump` instead. Deprecated in Pydantic V2.0 to be removed in V3.0. See Pydantic V2 Migration Guide at https://errors.pydantic.dev/2.4/migration/\n",
      "  MatchEvent(**x).dict()\n",
      "2024-01-31 15:09:33,427:INFO - HTTP Request: POST https://ypljxhueshyvowbzpglx.supabase.co/rest/v1/match_event \"HTTP/1.1 201 Created\"\n",
      "2024-01-31 15:09:33,659:INFO - HTTP Request: POST https://ypljxhueshyvowbzpglx.supabase.co/rest/v1/players \"HTTP/1.1 201 Created\"\n"
     ]
    },
    {
     "name": "stdout",
     "output_type": "stream",
     "text": [
      "Success\n",
      "https://whoscored.com/Matches/1741203/Live/France-Ligue-1-2023-2024-Lille-Monaco\n"
     ]
    },
    {
     "name": "stderr",
     "output_type": "stream",
     "text": [
      "C:\\Users\\marvi\\AppData\\Local\\Temp\\ipykernel_27960\\2685486566.py:3: PydanticDeprecatedSince20: The `dict` method is deprecated; use `model_dump` instead. Deprecated in Pydantic V2.0 to be removed in V3.0. See Pydantic V2 Migration Guide at https://errors.pydantic.dev/2.4/migration/\n",
      "  MatchEvent(**x).dict()\n",
      "2024-01-31 15:09:38,160:INFO - HTTP Request: POST https://ypljxhueshyvowbzpglx.supabase.co/rest/v1/match_event \"HTTP/1.1 201 Created\"\n",
      "2024-01-31 15:09:38,358:INFO - HTTP Request: POST https://ypljxhueshyvowbzpglx.supabase.co/rest/v1/players \"HTTP/1.1 201 Created\"\n"
     ]
    },
    {
     "name": "stdout",
     "output_type": "stream",
     "text": [
      "Success\n",
      "https://whoscored.com/Matches/1741213/Live/France-Ligue-1-2023-2024-Marseille-Lille\n"
     ]
    },
    {
     "name": "stderr",
     "output_type": "stream",
     "text": [
      "C:\\Users\\marvi\\AppData\\Local\\Temp\\ipykernel_27960\\2685486566.py:3: PydanticDeprecatedSince20: The `dict` method is deprecated; use `model_dump` instead. Deprecated in Pydantic V2.0 to be removed in V3.0. See Pydantic V2 Migration Guide at https://errors.pydantic.dev/2.4/migration/\n",
      "  MatchEvent(**x).dict()\n",
      "2024-01-31 15:09:42,934:INFO - HTTP Request: POST https://ypljxhueshyvowbzpglx.supabase.co/rest/v1/match_event \"HTTP/1.1 201 Created\"\n",
      "2024-01-31 15:09:43,202:INFO - HTTP Request: POST https://ypljxhueshyvowbzpglx.supabase.co/rest/v1/players \"HTTP/1.1 201 Created\"\n"
     ]
    },
    {
     "name": "stdout",
     "output_type": "stream",
     "text": [
      "Success\n",
      "https://whoscored.com/Matches/1741237/Live/France-Ligue-1-2023-2024-Lille-Montpellier\n"
     ]
    },
    {
     "name": "stderr",
     "output_type": "stream",
     "text": [
      "C:\\Users\\marvi\\AppData\\Local\\Temp\\ipykernel_27960\\2685486566.py:3: PydanticDeprecatedSince20: The `dict` method is deprecated; use `model_dump` instead. Deprecated in Pydantic V2.0 to be removed in V3.0. See Pydantic V2 Migration Guide at https://errors.pydantic.dev/2.4/migration/\n",
      "  MatchEvent(**x).dict()\n",
      "2024-01-31 15:09:48,094:INFO - HTTP Request: POST https://ypljxhueshyvowbzpglx.supabase.co/rest/v1/match_event \"HTTP/1.1 201 Created\"\n",
      "2024-01-31 15:09:48,285:INFO - HTTP Request: POST https://ypljxhueshyvowbzpglx.supabase.co/rest/v1/players \"HTTP/1.1 201 Created\"\n"
     ]
    },
    {
     "name": "stdout",
     "output_type": "stream",
     "text": [
      "Success\n",
      "https://whoscored.com/Matches/1775875/Live/Europe-Conference-League-2023-2024-Lille-Klaksvik\n",
      "https://whoscored.com/Matches/1775880/Live/Europe-Conference-League-2023-2024-Klaksvik-Lille\n",
      "https://whoscored.com/Matches/1741246/Live/France-Ligue-1-2023-2024-Rennes-Lille\n"
     ]
    },
    {
     "name": "stderr",
     "output_type": "stream",
     "text": [
      "C:\\Users\\marvi\\AppData\\Local\\Temp\\ipykernel_27960\\2685486566.py:3: PydanticDeprecatedSince20: The `dict` method is deprecated; use `model_dump` instead. Deprecated in Pydantic V2.0 to be removed in V3.0. See Pydantic V2 Migration Guide at https://errors.pydantic.dev/2.4/migration/\n",
      "  MatchEvent(**x).dict()\n",
      "2024-01-31 15:09:58,952:INFO - HTTP Request: POST https://ypljxhueshyvowbzpglx.supabase.co/rest/v1/match_event \"HTTP/1.1 201 Created\"\n",
      "2024-01-31 15:09:59,221:INFO - HTTP Request: POST https://ypljxhueshyvowbzpglx.supabase.co/rest/v1/players \"HTTP/1.1 201 Created\"\n"
     ]
    },
    {
     "name": "stdout",
     "output_type": "stream",
     "text": [
      "Success\n",
      "https://whoscored.com/Matches/1741696/Live/France-Ligue-1-2023-2024-Lille-Toulouse\n"
     ]
    },
    {
     "name": "stderr",
     "output_type": "stream",
     "text": [
      "C:\\Users\\marvi\\AppData\\Local\\Temp\\ipykernel_27960\\2685486566.py:3: PydanticDeprecatedSince20: The `dict` method is deprecated; use `model_dump` instead. Deprecated in Pydantic V2.0 to be removed in V3.0. See Pydantic V2 Migration Guide at https://errors.pydantic.dev/2.4/migration/\n",
      "  MatchEvent(**x).dict()\n",
      "2024-01-31 15:10:03,662:INFO - HTTP Request: POST https://ypljxhueshyvowbzpglx.supabase.co/rest/v1/match_event \"HTTP/1.1 201 Created\"\n",
      "2024-01-31 15:10:03,861:INFO - HTTP Request: POST https://ypljxhueshyvowbzpglx.supabase.co/rest/v1/players \"HTTP/1.1 201 Created\"\n"
     ]
    },
    {
     "name": "stdout",
     "output_type": "stream",
     "text": [
      "Success\n",
      "https://whoscored.com/Matches/1741220/Live/France-Ligue-1-2023-2024-Lille-Nantes\n"
     ]
    },
    {
     "name": "stderr",
     "output_type": "stream",
     "text": [
      "C:\\Users\\marvi\\AppData\\Local\\Temp\\ipykernel_27960\\2685486566.py:3: PydanticDeprecatedSince20: The `dict` method is deprecated; use `model_dump` instead. Deprecated in Pydantic V2.0 to be removed in V3.0. See Pydantic V2 Migration Guide at https://errors.pydantic.dev/2.4/migration/\n",
      "  MatchEvent(**x).dict()\n",
      "2024-01-31 15:10:08,228:INFO - HTTP Request: POST https://ypljxhueshyvowbzpglx.supabase.co/rest/v1/match_event \"HTTP/1.1 201 Created\"\n",
      "2024-01-31 15:10:08,442:INFO - HTTP Request: POST https://ypljxhueshyvowbzpglx.supabase.co/rest/v1/players \"HTTP/1.1 201 Created\"\n"
     ]
    },
    {
     "name": "stdout",
     "output_type": "stream",
     "text": [
      "Success\n",
      "https://whoscored.com/Matches/1741075/Live/France-Ligue-1-2023-2024-Nice-Lille\n"
     ]
    },
    {
     "name": "stderr",
     "output_type": "stream",
     "text": [
      "C:\\Users\\marvi\\AppData\\Local\\Temp\\ipykernel_27960\\2685486566.py:3: PydanticDeprecatedSince20: The `dict` method is deprecated; use `model_dump` instead. Deprecated in Pydantic V2.0 to be removed in V3.0. See Pydantic V2 Migration Guide at https://errors.pydantic.dev/2.4/migration/\n",
      "  MatchEvent(**x).dict()\n",
      "2024-01-31 15:10:13,099:INFO - HTTP Request: POST https://ypljxhueshyvowbzpglx.supabase.co/rest/v1/match_event \"HTTP/1.1 201 Created\"\n",
      "2024-01-31 15:10:13,409:INFO - HTTP Request: POST https://ypljxhueshyvowbzpglx.supabase.co/rest/v1/players \"HTTP/1.1 201 Created\"\n"
     ]
    },
    {
     "name": "stdout",
     "output_type": "stream",
     "text": [
      "Success\n",
      "https://whoscored.com/Matches/1741728/Live/France-Ligue-1-2023-2024-Clermont-Foot-Lille\n"
     ]
    },
    {
     "name": "stderr",
     "output_type": "stream",
     "text": [
      "C:\\Users\\marvi\\AppData\\Local\\Temp\\ipykernel_27960\\2685486566.py:3: PydanticDeprecatedSince20: The `dict` method is deprecated; use `model_dump` instead. Deprecated in Pydantic V2.0 to be removed in V3.0. See Pydantic V2 Migration Guide at https://errors.pydantic.dev/2.4/migration/\n",
      "  MatchEvent(**x).dict()\n",
      "2024-01-31 15:10:18,118:INFO - HTTP Request: POST https://ypljxhueshyvowbzpglx.supabase.co/rest/v1/match_event \"HTTP/1.1 201 Created\"\n",
      "2024-01-31 15:10:18,353:INFO - HTTP Request: POST https://ypljxhueshyvowbzpglx.supabase.co/rest/v1/players \"HTTP/1.1 201 Created\"\n"
     ]
    },
    {
     "name": "stdout",
     "output_type": "stream",
     "text": [
      "Success\n",
      "https://whoscored.com/Matches/1741182/Live/France-Ligue-1-2023-2024-Le-Havre-Lille\n"
     ]
    },
    {
     "name": "stderr",
     "output_type": "stream",
     "text": [
      "C:\\Users\\marvi\\AppData\\Local\\Temp\\ipykernel_27960\\2685486566.py:3: PydanticDeprecatedSince20: The `dict` method is deprecated; use `model_dump` instead. Deprecated in Pydantic V2.0 to be removed in V3.0. See Pydantic V2 Migration Guide at https://errors.pydantic.dev/2.4/migration/\n",
      "  MatchEvent(**x).dict()\n",
      "2024-01-31 15:10:23,030:INFO - HTTP Request: POST https://ypljxhueshyvowbzpglx.supabase.co/rest/v1/match_event \"HTTP/1.1 201 Created\"\n",
      "2024-01-31 15:10:23,265:INFO - HTTP Request: POST https://ypljxhueshyvowbzpglx.supabase.co/rest/v1/players \"HTTP/1.1 201 Created\"\n"
     ]
    },
    {
     "name": "stdout",
     "output_type": "stream",
     "text": [
      "Success\n",
      "https://whoscored.com/Matches/1775814/Live/Europe-Conference-League-2023-2024-Olimpija-Ljubljana-Lille\n",
      "https://whoscored.com/Matches/1741196/Live/France-Ligue-1-2023-2024-Lille-Brest\n"
     ]
    },
    {
     "name": "stderr",
     "output_type": "stream",
     "text": [
      "C:\\Users\\marvi\\AppData\\Local\\Temp\\ipykernel_27960\\2685486566.py:3: PydanticDeprecatedSince20: The `dict` method is deprecated; use `model_dump` instead. Deprecated in Pydantic V2.0 to be removed in V3.0. See Pydantic V2 Migration Guide at https://errors.pydantic.dev/2.4/migration/\n",
      "  MatchEvent(**x).dict()\n",
      "2024-01-31 15:10:30,812:INFO - HTTP Request: POST https://ypljxhueshyvowbzpglx.supabase.co/rest/v1/match_event \"HTTP/1.1 201 Created\"\n",
      "2024-01-31 15:10:31,063:INFO - HTTP Request: POST https://ypljxhueshyvowbzpglx.supabase.co/rest/v1/players \"HTTP/1.1 201 Created\"\n"
     ]
    },
    {
     "name": "stdout",
     "output_type": "stream",
     "text": [
      "Success\n",
      "https://whoscored.com/Matches/1775876/Live/Europe-Conference-League-2023-2024-Slovan-Bratislava-Lille\n"
     ]
    }
   ],
   "source": [
    "for url in all_urls:\n",
    "    print(url)\n",
    "    scrape_match_events(\n",
    "            whoscored_url=url,\n",
    "            driver=driver\n",
    "    )\n",
    "    time.sleep(2)"
   ]
  },
  {
   "cell_type": "code",
   "execution_count": null,
   "id": "84571004-ac2c-4c80-9cc1-0e61e90fdf61",
   "metadata": {},
   "outputs": [],
   "source": []
  }
 ],
 "metadata": {
  "kernelspec": {
   "display_name": "Python 3 (ipykernel)",
   "language": "python",
   "name": "python3"
  },
  "language_info": {
   "codemirror_mode": {
    "name": "ipython",
    "version": 3
   },
   "file_extension": ".py",
   "mimetype": "text/x-python",
   "name": "python",
   "nbconvert_exporter": "python",
   "pygments_lexer": "ipython3",
   "version": "3.8.18"
  }
 },
 "nbformat": 4,
 "nbformat_minor": 5
}
